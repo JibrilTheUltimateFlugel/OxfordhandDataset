{
  "nbformat": 4,
  "nbformat_minor": 0,
  "metadata": {
    "colab": {
      "name": "intern_notebook_leon.ipynb",
      "provenance": [],
      "collapsed_sections": [],
      "include_colab_link": true
    },
    "kernelspec": {
      "name": "python3",
      "display_name": "Python 3"
    },
    "language_info": {
      "name": "python"
    },
    "accelerator": "GPU"
  },
  "cells": [
    {
      "cell_type": "markdown",
      "metadata": {
        "id": "view-in-github",
        "colab_type": "text"
      },
      "source": [
        "<a href=\"https://colab.research.google.com/github/JibrilTheUltimateFlugel/OxfordhandDataset/blob/main/intern_notebook_leon.ipynb\" target=\"_parent\"><img src=\"https://colab.research.google.com/assets/colab-badge.svg\" alt=\"Open In Colab\"/></a>"
      ]
    },
    {
      "cell_type": "code",
      "metadata": {
        "colab": {
          "base_uri": "https://localhost:8080/"
        },
        "id": "hk-5pLkW9xXB",
        "outputId": "ecda2ec3-6605-4c48-999e-e9af0e0c4292"
      },
      "source": [
        "!git clone https://github.com/dungdinhanh/yolo_compression"
      ],
      "execution_count": null,
      "outputs": [
        {
          "output_type": "stream",
          "text": [
            "Cloning into 'yolo_compression'...\n",
            "remote: Enumerating objects: 231, done.\u001b[K\n",
            "remote: Counting objects: 100% (231/231), done.\u001b[K\n",
            "remote: Compressing objects: 100% (136/136), done.\u001b[K\n",
            "remote: Total 231 (delta 114), reused 201 (delta 84), pack-reused 0\u001b[K\n",
            "Receiving objects: 100% (231/231), 12.75 MiB | 28.31 MiB/s, done.\n",
            "Resolving deltas: 100% (114/114), done.\n"
          ],
          "name": "stdout"
        }
      ]
    },
    {
      "cell_type": "code",
      "metadata": {
        "colab": {
          "base_uri": "https://localhost:8080/"
        },
        "id": "a0B-Z3EOsp_5",
        "outputId": "b1d648cc-d223-43dc-975d-01ea453c8078"
      },
      "source": [
        "%cd /content/yolo_compression"
      ],
      "execution_count": null,
      "outputs": [
        {
          "output_type": "stream",
          "text": [
            "/content/yolo_compression\n"
          ],
          "name": "stdout"
        }
      ]
    },
    {
      "cell_type": "code",
      "metadata": {
        "colab": {
          "base_uri": "https://localhost:8080/",
          "height": 1000
        },
        "id": "XmJhvmNaOZXy",
        "outputId": "e7fdb35d-8924-4407-bf26-a465f06ad988"
      },
      "source": [
        "!pip install -U -r requirements.txt\n",
        "!pip install terminaltables\n",
        "#Copying files\n",
        "from google.colab import drive\n",
        "drive.mount('/content/gdrive/')\n",
        "!mkdir data/hand\n",
        "!mount --bind \"/content/gdrive/MyDrive/hand\" \"/content/yolo_compression/data/hand\""
      ],
      "execution_count": null,
      "outputs": [
        {
          "output_type": "stream",
          "text": [
            "Collecting git+https://github.com/cocodataset/cocoapi.git#subdirectory=PythonAPI (from -r requirements.txt (line 12))\n",
            "  Cloning https://github.com/cocodataset/cocoapi.git to /tmp/pip-req-build-xhx7n4f9\n",
            "  Running command git clone -q https://github.com/cocodataset/cocoapi.git /tmp/pip-req-build-xhx7n4f9\n",
            "Requirement already up-to-date: Cython in /usr/local/lib/python3.7/dist-packages (from -r requirements.txt (line 2)) (0.29.23)\n",
            "Collecting numpy==1.17\n",
            "\u001b[?25l  Downloading https://files.pythonhosted.org/packages/05/4b/55cfbfd3e5e85016eeef9f21c0ec809d978706a0d60b62cc28aeec8c792f/numpy-1.17.0-cp37-cp37m-manylinux1_x86_64.whl (20.3MB)\n",
            "\u001b[K     |████████████████████████████████| 20.3MB 1.5MB/s \n",
            "\u001b[?25hCollecting opencv-python\n",
            "\u001b[?25l  Downloading https://files.pythonhosted.org/packages/72/b3/3878691fec6babd78bbf4c71c720e1831cbb6ada61679613fe2fae080568/opencv_python-4.5.2.54-cp37-cp37m-manylinux2014_x86_64.whl (51.0MB)\n",
            "\u001b[K     |████████████████████████████████| 51.0MB 59kB/s \n",
            "\u001b[?25hRequirement already up-to-date: torch>=1.5.1 in /usr/local/lib/python3.7/dist-packages (from -r requirements.txt (line 5)) (1.8.1+cu101)\n",
            "Collecting matplotlib\n",
            "\u001b[?25l  Downloading https://files.pythonhosted.org/packages/24/33/5568d443ba438d95d4db635dd69958056f087e57e1026bee56f959d53f9d/matplotlib-3.4.2-cp37-cp37m-manylinux1_x86_64.whl (10.3MB)\n",
            "\u001b[K     |████████████████████████████████| 10.3MB 31.5MB/s \n",
            "\u001b[?25hCollecting pillow\n",
            "\u001b[?25l  Downloading https://files.pythonhosted.org/packages/33/34/542152297dcc6c47a9dcb0685eac6d652d878ed3cea83bf2b23cb988e857/Pillow-8.2.0-cp37-cp37m-manylinux1_x86_64.whl (3.0MB)\n",
            "\u001b[K     |████████████████████████████████| 3.0MB 27.1MB/s \n",
            "\u001b[?25hRequirement already up-to-date: tensorboard in /usr/local/lib/python3.7/dist-packages (from -r requirements.txt (line 8)) (2.5.0)\n",
            "Requirement already up-to-date: torchvision in /usr/local/lib/python3.7/dist-packages (from -r requirements.txt (line 9)) (0.9.1+cu101)\n",
            "Collecting scipy\n",
            "\u001b[?25l  Downloading https://files.pythonhosted.org/packages/7d/e8/43ffca541d2f208d516296950b25fe1084b35c2881f4d444c1346ca75815/scipy-1.6.3-cp37-cp37m-manylinux1_x86_64.whl (27.4MB)\n",
            "\u001b[K     |████████████████████████████████| 27.4MB 125kB/s \n",
            "\u001b[?25hCollecting tqdm\n",
            "\u001b[?25l  Downloading https://files.pythonhosted.org/packages/b4/20/9f1e974bb4761128fc0d0a32813eaa92827309b1756c4b892d28adfb4415/tqdm-4.61.1-py2.py3-none-any.whl (75kB)\n",
            "\u001b[K     |████████████████████████████████| 81kB 9.4MB/s \n",
            "\u001b[?25hRequirement already satisfied, skipping upgrade: setuptools>=18.0 in /usr/local/lib/python3.7/dist-packages (from pycocotools==2.0->-r requirements.txt (line 12)) (57.0.0)\n",
            "Requirement already satisfied, skipping upgrade: typing-extensions in /usr/local/lib/python3.7/dist-packages (from torch>=1.5.1->-r requirements.txt (line 5)) (3.7.4.3)\n",
            "Requirement already satisfied, skipping upgrade: pyparsing>=2.2.1 in /usr/local/lib/python3.7/dist-packages (from matplotlib->-r requirements.txt (line 6)) (2.4.7)\n",
            "Requirement already satisfied, skipping upgrade: kiwisolver>=1.0.1 in /usr/local/lib/python3.7/dist-packages (from matplotlib->-r requirements.txt (line 6)) (1.3.1)\n",
            "Requirement already satisfied, skipping upgrade: python-dateutil>=2.7 in /usr/local/lib/python3.7/dist-packages (from matplotlib->-r requirements.txt (line 6)) (2.8.1)\n",
            "Requirement already satisfied, skipping upgrade: cycler>=0.10 in /usr/local/lib/python3.7/dist-packages (from matplotlib->-r requirements.txt (line 6)) (0.10.0)\n",
            "Requirement already satisfied, skipping upgrade: werkzeug>=0.11.15 in /usr/local/lib/python3.7/dist-packages (from tensorboard->-r requirements.txt (line 8)) (1.0.1)\n",
            "Requirement already satisfied, skipping upgrade: google-auth<2,>=1.6.3 in /usr/local/lib/python3.7/dist-packages (from tensorboard->-r requirements.txt (line 8)) (1.30.0)\n",
            "Requirement already satisfied, skipping upgrade: requests<3,>=2.21.0 in /usr/local/lib/python3.7/dist-packages (from tensorboard->-r requirements.txt (line 8)) (2.23.0)\n",
            "Requirement already satisfied, skipping upgrade: wheel>=0.26; python_version >= \"3\" in /usr/local/lib/python3.7/dist-packages (from tensorboard->-r requirements.txt (line 8)) (0.36.2)\n",
            "Requirement already satisfied, skipping upgrade: grpcio>=1.24.3 in /usr/local/lib/python3.7/dist-packages (from tensorboard->-r requirements.txt (line 8)) (1.34.1)\n",
            "Requirement already satisfied, skipping upgrade: absl-py>=0.4 in /usr/local/lib/python3.7/dist-packages (from tensorboard->-r requirements.txt (line 8)) (0.12.0)\n",
            "Requirement already satisfied, skipping upgrade: tensorboard-plugin-wit>=1.6.0 in /usr/local/lib/python3.7/dist-packages (from tensorboard->-r requirements.txt (line 8)) (1.8.0)\n",
            "Requirement already satisfied, skipping upgrade: protobuf>=3.6.0 in /usr/local/lib/python3.7/dist-packages (from tensorboard->-r requirements.txt (line 8)) (3.12.4)\n",
            "Requirement already satisfied, skipping upgrade: tensorboard-data-server<0.7.0,>=0.6.0 in /usr/local/lib/python3.7/dist-packages (from tensorboard->-r requirements.txt (line 8)) (0.6.1)\n",
            "Requirement already satisfied, skipping upgrade: markdown>=2.6.8 in /usr/local/lib/python3.7/dist-packages (from tensorboard->-r requirements.txt (line 8)) (3.3.4)\n",
            "Requirement already satisfied, skipping upgrade: google-auth-oauthlib<0.5,>=0.4.1 in /usr/local/lib/python3.7/dist-packages (from tensorboard->-r requirements.txt (line 8)) (0.4.4)\n",
            "Requirement already satisfied, skipping upgrade: six>=1.5 in /usr/local/lib/python3.7/dist-packages (from python-dateutil>=2.7->matplotlib->-r requirements.txt (line 6)) (1.15.0)\n",
            "Requirement already satisfied, skipping upgrade: cachetools<5.0,>=2.0.0 in /usr/local/lib/python3.7/dist-packages (from google-auth<2,>=1.6.3->tensorboard->-r requirements.txt (line 8)) (4.2.2)\n",
            "Requirement already satisfied, skipping upgrade: rsa<5,>=3.1.4; python_version >= \"3.6\" in /usr/local/lib/python3.7/dist-packages (from google-auth<2,>=1.6.3->tensorboard->-r requirements.txt (line 8)) (4.7.2)\n",
            "Requirement already satisfied, skipping upgrade: pyasn1-modules>=0.2.1 in /usr/local/lib/python3.7/dist-packages (from google-auth<2,>=1.6.3->tensorboard->-r requirements.txt (line 8)) (0.2.8)\n",
            "Requirement already satisfied, skipping upgrade: urllib3!=1.25.0,!=1.25.1,<1.26,>=1.21.1 in /usr/local/lib/python3.7/dist-packages (from requests<3,>=2.21.0->tensorboard->-r requirements.txt (line 8)) (1.24.3)\n",
            "Requirement already satisfied, skipping upgrade: idna<3,>=2.5 in /usr/local/lib/python3.7/dist-packages (from requests<3,>=2.21.0->tensorboard->-r requirements.txt (line 8)) (2.10)\n",
            "Requirement already satisfied, skipping upgrade: certifi>=2017.4.17 in /usr/local/lib/python3.7/dist-packages (from requests<3,>=2.21.0->tensorboard->-r requirements.txt (line 8)) (2020.12.5)\n",
            "Requirement already satisfied, skipping upgrade: chardet<4,>=3.0.2 in /usr/local/lib/python3.7/dist-packages (from requests<3,>=2.21.0->tensorboard->-r requirements.txt (line 8)) (3.0.4)\n",
            "Requirement already satisfied, skipping upgrade: importlib-metadata; python_version < \"3.8\" in /usr/local/lib/python3.7/dist-packages (from markdown>=2.6.8->tensorboard->-r requirements.txt (line 8)) (4.0.1)\n",
            "Requirement already satisfied, skipping upgrade: requests-oauthlib>=0.7.0 in /usr/local/lib/python3.7/dist-packages (from google-auth-oauthlib<0.5,>=0.4.1->tensorboard->-r requirements.txt (line 8)) (1.3.0)\n",
            "Requirement already satisfied, skipping upgrade: pyasn1>=0.1.3 in /usr/local/lib/python3.7/dist-packages (from rsa<5,>=3.1.4; python_version >= \"3.6\"->google-auth<2,>=1.6.3->tensorboard->-r requirements.txt (line 8)) (0.4.8)\n",
            "Requirement already satisfied, skipping upgrade: zipp>=0.5 in /usr/local/lib/python3.7/dist-packages (from importlib-metadata; python_version < \"3.8\"->markdown>=2.6.8->tensorboard->-r requirements.txt (line 8)) (3.4.1)\n",
            "Requirement already satisfied, skipping upgrade: oauthlib>=3.0.0 in /usr/local/lib/python3.7/dist-packages (from requests-oauthlib>=0.7.0->google-auth-oauthlib<0.5,>=0.4.1->tensorboard->-r requirements.txt (line 8)) (3.1.0)\n",
            "Building wheels for collected packages: pycocotools\n",
            "  Building wheel for pycocotools (setup.py) ... \u001b[?25l\u001b[?25hdone\n",
            "  Created wheel for pycocotools: filename=pycocotools-2.0-cp37-cp37m-linux_x86_64.whl size=263902 sha256=5bd7b1e9aff393725f5ed6a1cde862738c677f754a0f7cffb8166ed180c28862\n",
            "  Stored in directory: /tmp/pip-ephem-wheel-cache-b_n1_ac6/wheels/90/51/41/646daf401c3bc408ff10de34ec76587a9b3ebfac8d21ca5c3a\n",
            "Successfully built pycocotools\n",
            "\u001b[31mERROR: tensorflow 2.5.0 has requirement numpy~=1.19.2, but you'll have numpy 1.17.0 which is incompatible.\u001b[0m\n",
            "\u001b[31mERROR: kapre 0.3.5 has requirement numpy>=1.18.5, but you'll have numpy 1.17.0 which is incompatible.\u001b[0m\n",
            "\u001b[31mERROR: datascience 0.10.6 has requirement folium==0.2.1, but you'll have folium 0.8.3 which is incompatible.\u001b[0m\n",
            "\u001b[31mERROR: albumentations 0.1.12 has requirement imgaug<0.2.7,>=0.2.5, but you'll have imgaug 0.2.9 which is incompatible.\u001b[0m\n",
            "Installing collected packages: numpy, opencv-python, pillow, matplotlib, scipy, tqdm, pycocotools\n",
            "  Found existing installation: numpy 1.19.5\n",
            "    Uninstalling numpy-1.19.5:\n",
            "      Successfully uninstalled numpy-1.19.5\n",
            "  Found existing installation: opencv-python 4.1.2.30\n",
            "    Uninstalling opencv-python-4.1.2.30:\n",
            "      Successfully uninstalled opencv-python-4.1.2.30\n",
            "  Found existing installation: Pillow 7.1.2\n",
            "    Uninstalling Pillow-7.1.2:\n",
            "      Successfully uninstalled Pillow-7.1.2\n",
            "  Found existing installation: matplotlib 3.2.2\n",
            "    Uninstalling matplotlib-3.2.2:\n",
            "      Successfully uninstalled matplotlib-3.2.2\n",
            "  Found existing installation: scipy 1.4.1\n",
            "    Uninstalling scipy-1.4.1:\n",
            "      Successfully uninstalled scipy-1.4.1\n",
            "  Found existing installation: tqdm 4.41.1\n",
            "    Uninstalling tqdm-4.41.1:\n",
            "      Successfully uninstalled tqdm-4.41.1\n",
            "  Found existing installation: pycocotools 2.0.2\n",
            "    Uninstalling pycocotools-2.0.2:\n",
            "      Successfully uninstalled pycocotools-2.0.2\n",
            "Successfully installed matplotlib-3.4.2 numpy-1.17.0 opencv-python-4.5.2.54 pillow-8.2.0 pycocotools-2.0 scipy-1.6.3 tqdm-4.61.1\n"
          ],
          "name": "stdout"
        },
        {
          "output_type": "display_data",
          "data": {
            "application/vnd.colab-display-data+json": {
              "pip_warning": {
                "packages": [
                  "PIL",
                  "matplotlib",
                  "mpl_toolkits",
                  "numpy"
                ]
              }
            }
          },
          "metadata": {
            "tags": []
          }
        },
        {
          "output_type": "stream",
          "text": [
            "Collecting terminaltables\n",
            "  Downloading https://files.pythonhosted.org/packages/9b/c4/4a21174f32f8a7e1104798c445dacdc1d4df86f2f26722767034e4de4bff/terminaltables-3.1.0.tar.gz\n",
            "Building wheels for collected packages: terminaltables\n",
            "  Building wheel for terminaltables (setup.py) ... \u001b[?25l\u001b[?25hdone\n",
            "  Created wheel for terminaltables: filename=terminaltables-3.1.0-cp37-none-any.whl size=15356 sha256=74fa9ef5f5e7de7a1b859952aa928c2ffe28d2d7dcb09f233201fd634ae39255\n",
            "  Stored in directory: /root/.cache/pip/wheels/30/6b/50/6c75775b681fb36cdfac7f19799888ef9d8813aff9e379663e\n",
            "Successfully built terminaltables\n",
            "Installing collected packages: terminaltables\n",
            "Successfully installed terminaltables-3.1.0\n",
            "Mounted at /content/gdrive/\n"
          ],
          "name": "stdout"
        }
      ]
    },
    {
      "cell_type": "code",
      "metadata": {
        "colab": {
          "base_uri": "https://localhost:8080/"
        },
        "id": "yhwychqIaW_v",
        "outputId": "c0eee7f9-e240-4d15-976d-aea60d5e643a"
      },
      "source": [
        "!bash /content/yolo_compression/weights/download_yolov3_weights.sh"
      ],
      "execution_count": null,
      "outputs": [
        {
          "output_type": "stream",
          "text": [
            "  % Total    % Received % Xferd  Average Speed   Time    Time     Time  Current\n",
            "                                 Dload  Upload   Total   Spent    Left  Speed\n",
            "100   408    0   408    0     0   1915      0 --:--:-- --:--:-- --:--:--  1915\n",
            "  0     0    0     0    0     0      0      0 --:--:-- --:--:-- --:--:--     0\n",
            "  0     0    0     0    0     0      0      0 --:--:-- --:--:-- --:--:--     0\n",
            "100  236M    0  236M    0     0  70.7M      0 --:--:--  0:00:03 --:--:-- 88.8M\n",
            "Downloading https://drive.google.com/uc?export=download&id=1SHNFyoe5Ni8DajDNEqgB2oVKBb_NoEad as weights/yolov3.pt... Done (3.7s)\n",
            "  % Total    % Received % Xferd  Average Speed   Time    Time     Time  Current\n",
            "                                 Dload  Upload   Total   Spent    Left  Speed\n",
            "100   408    0   408    0     0   1773      0 --:--:-- --:--:-- --:--:--  1781\n",
            "  0     0    0     0    0     0      0      0 --:--:-- --:--:-- --:--:--     0\n",
            "  0     0    0     0    0     0      0      0 --:--:-- --:--:-- --:--:--     0\n",
            "100  240M    0  240M    0     0  48.0M      0 --:--:--  0:00:05 --:--:-- 70.5M\n",
            "Downloading https://drive.google.com/uc?export=download&id=1f6Ovy3BSq2wYq4UfvFUpxJFNDFfrIDcR as weights/yolov3-spp.pt... Done (5.4s)\n"
          ],
          "name": "stdout"
        }
      ]
    },
    {
      "cell_type": "code",
      "metadata": {
        "colab": {
          "base_uri": "https://localhost:8080/"
        },
        "id": "ClfXn6vxjeNo",
        "outputId": "d696586d-4d06-4651-cdc3-2b6a5c3803b4"
      },
      "source": [
        "#Training Experiment 1\n",
        "!mount --bind \"/content/gdrive/MyDrive/weights\" \"/content/yolo_compression/runs\"\n",
        "!python train.py --data data/oxfordhand.data --batch-size 8 --weights '' -pt --cfg cfg/yolov3tiny/yolov3-tiny-hand.cfg  --img-size 448 448 --epochs 50"
      ],
      "execution_count": null,
      "outputs": [
        {
          "output_type": "stream",
          "text": [
            "Namespace(FPGA=False, KDstr=-1, a_bit=8, adam=False, batch_size=8, bucket='', cache_images=False, cfg='./cfg/yolov3tiny/yolov3-tiny-hand.cfg', data='data/oxfordhand.data', device='', ema=False, epochs=50, evolve=False, gray_scale=False, img_size=[448, 448], local_rank=-1, maxabsscaler=False, mpt=False, multi_scale=False, name='', nosave=False, notest=False, prune=-1, pt=True, quantized=-1, rank=0, rect=False, resume=False, s=0.001, single_cls=False, t_cfg='', t_weights='', w_bit=8, weights='')\n",
            "Using CUDA device0 _CudaDeviceProperties(name='Tesla K80', total_memory=11441MB)\n",
            "\n",
            "Start Tensorboard with \"tensorboard --logdir=runs/_0/tb\", view at http://localhost:6006/\n",
            "2021-06-14 15:04:49.557745: I tensorflow/stream_executor/platform/default/dso_loader.cc:53] Successfully opened dynamic library libcudart.so.11.0\n",
            "Model Summary: 37 layers, 8.66988e+06 parameters, 8.66988e+06 gradients\n",
            "Optimizer groups: 13 .bias, 13 Conv2d.weight, 11 other\n",
            "Caching labels (4807 found, 0 missing, 0 empty, 79 duplicate, for 4807 images): 100% 4807/4807 [00:06<00:00, 790.82it/s]\n",
            "Caching labels (821 found, 0 missing, 0 empty, 0 duplicate, for 821 images): 100% 821/821 [00:01<00:00, 790.94it/s]\n",
            "muti-gpus sparse\n",
            "Caching labels (821 found, 0 missing, 0 empty, 0 duplicate, for 821 images): 100% 821/821 [00:01<00:00, 775.80it/s]\n",
            "Image sizes 448 - 448 train, 448 test\n",
            "Using 2 dataloader workers\n",
            "Starting training for 50 epochs...\n",
            "\n",
            "     Epoch   gpu_mem      GIoU       obj       cls     total   targets  img_size\n",
            "  0% 0/601 [00:00<?, ?it/s][W reducer.cpp:1050] Warning: find_unused_parameters=True was specified in DDP constructor, but did not find any unused parameters. This flag results in an extra traversal of the autograd graph every iteration, which can adversely affect performance. If your model indeed never has any unused parameters, consider turning this flag off. Note that this warning may be a false positive your model has flow control causing later iterations to have unused parameters. (function operator())\n",
            "      0/49     1.16G      4.54       3.8         0      8.34        29       448: 100% 601/601 [02:54<00:00,  3.44it/s]\n",
            "               Class    Images   Targets         P         R   mAP@0.5        F1: 100% 411/411 [00:15<00:00, 26.29it/s]\n",
            "                 all       821  2.03e+03    0.0808    0.0911    0.0286    0.0856\n",
            "\n",
            "     Epoch   gpu_mem      GIoU       obj       cls     total   targets  img_size\n",
            "      1/49     1.23G      3.91      2.53         0      6.44        28       448: 100% 601/601 [02:56<00:00,  3.41it/s]\n",
            "               Class    Images   Targets         P         R   mAP@0.5        F1: 100% 411/411 [00:15<00:00, 26.61it/s]\n",
            "                 all       821  2.03e+03     0.121     0.311     0.112     0.174\n",
            "\n",
            "     Epoch   gpu_mem      GIoU       obj       cls     total   targets  img_size\n",
            "      2/49     1.22G      3.57      1.86         0      5.42        13       448: 100% 601/601 [02:59<00:00,  3.34it/s]\n",
            "               Class    Images   Targets         P         R   mAP@0.5        F1: 100% 411/411 [00:15<00:00, 25.74it/s]\n",
            "                 all       821  2.03e+03     0.164       0.4     0.187     0.232\n",
            "\n",
            "     Epoch   gpu_mem      GIoU       obj       cls     total   targets  img_size\n",
            "      3/49     1.22G      3.37      1.62         0         5        25       448: 100% 601/601 [02:58<00:00,  3.37it/s]\n",
            "               Class    Images   Targets         P         R   mAP@0.5        F1: 100% 411/411 [00:15<00:00, 26.44it/s]\n",
            "                 all       821  2.03e+03     0.332     0.276       0.2     0.301\n",
            "\n",
            "     Epoch   gpu_mem      GIoU       obj       cls     total   targets  img_size\n",
            "      4/49     1.21G      3.25      1.62         0      4.87        16       448: 100% 601/601 [03:00<00:00,  3.32it/s]\n",
            "               Class    Images   Targets         P         R   mAP@0.5        F1: 100% 411/411 [00:15<00:00, 26.35it/s]\n",
            "                 all       821  2.03e+03     0.362     0.364     0.299     0.363\n",
            "\n",
            "     Epoch   gpu_mem      GIoU       obj       cls     total   targets  img_size\n",
            "      5/49     1.22G      3.19      1.57         0      4.75        21       448: 100% 601/601 [03:01<00:00,  3.31it/s]\n",
            "               Class    Images   Targets         P         R   mAP@0.5        F1: 100% 411/411 [00:15<00:00, 26.23it/s]\n",
            "                 all       821  2.03e+03     0.371     0.423     0.344     0.395\n",
            "\n",
            "     Epoch   gpu_mem      GIoU       obj       cls     total   targets  img_size\n",
            "      6/49     1.22G      3.13      1.55         0      4.67        23       448: 100% 601/601 [03:00<00:00,  3.34it/s]\n",
            "               Class    Images   Targets         P         R   mAP@0.5        F1: 100% 411/411 [00:15<00:00, 26.37it/s]\n",
            "                 all       821  2.03e+03     0.232     0.548     0.359     0.326\n",
            "\n",
            "     Epoch   gpu_mem      GIoU       obj       cls     total   targets  img_size\n",
            "      7/49     1.24G      3.08      1.53         0       4.6        17       448: 100% 601/601 [02:59<00:00,  3.36it/s]\n",
            "               Class    Images   Targets         P         R   mAP@0.5        F1: 100% 411/411 [00:15<00:00, 27.31it/s]\n",
            "                 all       821  2.03e+03     0.335     0.469      0.37     0.391\n",
            "\n",
            "     Epoch   gpu_mem      GIoU       obj       cls     total   targets  img_size\n",
            "      8/49     1.22G         3       1.5         0       4.5        15       448: 100% 601/601 [02:58<00:00,  3.36it/s]\n",
            "               Class    Images   Targets         P         R   mAP@0.5        F1: 100% 411/411 [00:15<00:00, 27.22it/s]\n",
            "                 all       821  2.03e+03     0.334     0.435     0.335     0.378\n",
            "\n",
            "     Epoch   gpu_mem      GIoU       obj       cls     total   targets  img_size\n",
            "      9/49     1.22G      2.97       1.5         0      4.47        29       448: 100% 601/601 [02:58<00:00,  3.36it/s]\n",
            "               Class    Images   Targets         P         R   mAP@0.5        F1: 100% 411/411 [00:15<00:00, 26.33it/s]\n",
            "                 all       821  2.03e+03     0.303     0.521     0.389     0.383\n",
            "\n",
            "     Epoch   gpu_mem      GIoU       obj       cls     total   targets  img_size\n",
            "     10/49     1.22G      2.96      1.47         0      4.44        24       448: 100% 601/601 [02:59<00:00,  3.35it/s]\n",
            "               Class    Images   Targets         P         R   mAP@0.5        F1: 100% 411/411 [00:15<00:00, 26.94it/s]\n",
            "                 all       821  2.03e+03      0.28     0.563     0.413     0.374\n",
            "\n",
            "     Epoch   gpu_mem      GIoU       obj       cls     total   targets  img_size\n",
            "     11/49     1.21G      2.91      1.49         0       4.4        30       448: 100% 601/601 [03:00<00:00,  3.33it/s]\n",
            "               Class    Images   Targets         P         R   mAP@0.5        F1: 100% 411/411 [00:15<00:00, 27.00it/s]\n",
            "                 all       821  2.03e+03     0.392     0.512     0.436     0.444\n",
            "\n",
            "     Epoch   gpu_mem      GIoU       obj       cls     total   targets  img_size\n",
            "     12/49     1.15G      2.89      1.49         0      4.37        15       448: 100% 601/601 [03:04<00:00,  3.26it/s]\n",
            "               Class    Images   Targets         P         R   mAP@0.5        F1: 100% 411/411 [00:15<00:00, 25.81it/s]\n",
            "                 all       821  2.03e+03     0.331     0.568      0.45     0.419\n",
            "\n",
            "     Epoch   gpu_mem      GIoU       obj       cls     total   targets  img_size\n",
            "     13/49     1.15G      2.86      1.45         0      4.32        31       448: 100% 601/601 [03:04<00:00,  3.25it/s]\n",
            "               Class    Images   Targets         P         R   mAP@0.5        F1: 100% 411/411 [00:15<00:00, 25.85it/s]\n",
            "                 all       821  2.03e+03     0.398     0.548     0.467     0.461\n",
            "\n",
            "     Epoch   gpu_mem      GIoU       obj       cls     total   targets  img_size\n",
            "     14/49     1.15G      2.84      1.44         0      4.29        24       448:  67% 404/601 [02:05<01:11,  2.77it/s]"
          ],
          "name": "stdout"
        }
      ]
    },
    {
      "cell_type": "code",
      "metadata": {
        "colab": {
          "base_uri": "https://localhost:8080/"
        },
        "id": "AjG0LrWQk3Gl",
        "outputId": "9c6f16a0-4d8f-4bec-d733-629b590290db"
      },
      "source": [
        "#Knowledge Distillation\n",
        "!python3 train.py --data data/oxfordhand.data --weights '' --cfg cfg/yolov3/yolov3-hand.cfg --img-size 448 448 --epochs 300 --t_cfg cfg/yolov3/yolov3-hand.cfg --t_weights /content/yolo_compression/weights/yolov3.pt\n"
      ],
      "execution_count": null,
      "outputs": [
        {
          "output_type": "stream",
          "text": [
            "Namespace(FPGA=False, KDstr=-1, a_bit=8, adam=False, batch_size=16, bucket='', cache_images=False, cfg='./cfg/yolov3/yolov3-hand.cfg', data='data/oxfordhand.data', device='', ema=False, epochs=300, evolve=False, gray_scale=False, img_size=[448, 448], local_rank=-1, maxabsscaler=False, mpt=False, multi_scale=False, name='', nosave=False, notest=False, prune=-1, pt=False, quantized=-1, rank=0, rect=False, resume=False, s=0.001, single_cls=False, t_cfg='cfg/yolov3/yolov3-hand.cfg', t_weights='/content/yolo_compression/weights/yolov3.pt', w_bit=8, weights='')\n",
            "Using CUDA device0 _CudaDeviceProperties(name='Tesla K80', total_memory=11441MB)\n",
            "\n",
            "Start Tensorboard with \"tensorboard --logdir=runs\", view at http://localhost:6006/\n",
            "2021-06-13 15:48:47.712446: I tensorflow/stream_executor/platform/default/dso_loader.cc:53] Successfully opened dynamic library libcudart.so.11.0\n",
            "Model Summary: 222 layers, 6.15237e+07 parameters, 6.15237e+07 gradients\n",
            "Model Summary: 222 layers, 6.15237e+07 parameters, 6.15237e+07 gradients\n",
            "Optimizer groups: 75 .bias, 75 Conv2d.weight, 72 other\n",
            "Traceback (most recent call last):\n",
            "  File \"train.py\", line 654, in <module>\n",
            "    train(hyp)  # train normally\n",
            "  File \"train.py\", line 174, in train\n",
            "    t_model.load_state_dict(torch.load(t_weights, map_location=device)['model'])\n",
            "  File \"/usr/local/lib/python3.7/dist-packages/torch/nn/modules/module.py\", line 1224, in load_state_dict\n",
            "    self.__class__.__name__, \"\\n\\t\".join(error_msgs)))\n",
            "RuntimeError: Error(s) in loading state_dict for Darknet:\n",
            "\tsize mismatch for module_list.81.Conv2d.weight: copying a param with shape torch.Size([255, 1024, 1, 1]) from checkpoint, the shape in current model is torch.Size([18, 1024, 1, 1]).\n",
            "\tsize mismatch for module_list.81.Conv2d.bias: copying a param with shape torch.Size([255]) from checkpoint, the shape in current model is torch.Size([18]).\n",
            "\tsize mismatch for module_list.93.Conv2d.weight: copying a param with shape torch.Size([255, 512, 1, 1]) from checkpoint, the shape in current model is torch.Size([18, 512, 1, 1]).\n",
            "\tsize mismatch for module_list.93.Conv2d.bias: copying a param with shape torch.Size([255]) from checkpoint, the shape in current model is torch.Size([18]).\n",
            "\tsize mismatch for module_list.105.Conv2d.weight: copying a param with shape torch.Size([255, 256, 1, 1]) from checkpoint, the shape in current model is torch.Size([18, 256, 1, 1]).\n",
            "\tsize mismatch for module_list.105.Conv2d.bias: copying a param with shape torch.Size([255]) from checkpoint, the shape in current model is torch.Size([18]).\n"
          ],
          "name": "stdout"
        }
      ]
    },
    {
      "cell_type": "code",
      "metadata": {
        "colab": {
          "base_uri": "https://localhost:8080/"
        },
        "id": "42GeQX3Q2x4e",
        "outputId": "4eafe4ca-6032-4eee-959a-87cc55ea8fb2"
      },
      "source": [
        "%cd .."
      ],
      "execution_count": null,
      "outputs": [
        {
          "output_type": "stream",
          "text": [
            "/content\n"
          ],
          "name": "stdout"
        }
      ]
    }
  ]
}